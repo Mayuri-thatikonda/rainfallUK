{
  "nbformat": 4,
  "nbformat_minor": 0,
  "metadata": {
    "colab": {
      "name": "rainfallUK.ipynb",
      "provenance": [],
      "toc_visible": true,
      "authorship_tag": "ABX9TyMep39wXk16BTiTbWwhJmrS",
      "include_colab_link": true
    },
    "kernelspec": {
      "name": "python3",
      "display_name": "Python 3"
    },
    "language_info": {
      "name": "python"
    }
  },
  "cells": [
    {
      "cell_type": "markdown",
      "metadata": {
        "id": "view-in-github",
        "colab_type": "text"
      },
      "source": [
        "<a href=\"https://colab.research.google.com/github/Mayuri-thatikonda/rainfallUK/blob/main/rainfallUK.ipynb\" target=\"_parent\"><img src=\"https://colab.research.google.com/assets/colab-badge.svg\" alt=\"Open In Colab\"/></a>"
      ]
    },
    {
      "cell_type": "code",
      "metadata": {
        "id": "Tboe6OBGZ3zZ"
      },
      "source": [
        "import numpy as np\n",
        "import pandas as pd\n",
        "import matplotlib.pyplot as plt\n"
      ],
      "execution_count": 1,
      "outputs": []
    },
    {
      "cell_type": "code",
      "metadata": {
        "id": "2shOE1IYalfm"
      },
      "source": [
        "data = pd.read_csv('rainfall1UK.csv')"
      ],
      "execution_count": 2,
      "outputs": []
    },
    {
      "cell_type": "code",
      "metadata": {
        "colab": {
          "base_uri": "https://localhost:8080/",
          "height": 204
        },
        "id": "1-9fVhz-ayRO",
        "outputId": "4ba0d980-6505-4698-8e64-aaa101893ec3"
      },
      "source": [
        "data.head()"
      ],
      "execution_count": 3,
      "outputs": [
        {
          "output_type": "execute_result",
          "data": {
            "text/html": [
              "<div>\n",
              "<style scoped>\n",
              "    .dataframe tbody tr th:only-of-type {\n",
              "        vertical-align: middle;\n",
              "    }\n",
              "\n",
              "    .dataframe tbody tr th {\n",
              "        vertical-align: top;\n",
              "    }\n",
              "\n",
              "    .dataframe thead th {\n",
              "        text-align: right;\n",
              "    }\n",
              "</style>\n",
              "<table border=\"1\" class=\"dataframe\">\n",
              "  <thead>\n",
              "    <tr style=\"text-align: right;\">\n",
              "      <th></th>\n",
              "      <th>Year</th>\n",
              "      <th>Type of period</th>\n",
              "      <th>Period</th>\n",
              "      <th>Avg temp(in centigrade)</th>\n",
              "      <th>Avg rainfall(in mm)</th>\n",
              "    </tr>\n",
              "  </thead>\n",
              "  <tbody>\n",
              "    <tr>\n",
              "      <th>0</th>\n",
              "      <td>2010</td>\n",
              "      <td>Monthly</td>\n",
              "      <td>JAN</td>\n",
              "      <td>0.8</td>\n",
              "      <td>69.5</td>\n",
              "    </tr>\n",
              "    <tr>\n",
              "      <th>1</th>\n",
              "      <td>2010</td>\n",
              "      <td>Monthly</td>\n",
              "      <td>FEB</td>\n",
              "      <td>1.6</td>\n",
              "      <td>71.7</td>\n",
              "    </tr>\n",
              "    <tr>\n",
              "      <th>2</th>\n",
              "      <td>2010</td>\n",
              "      <td>Monthly</td>\n",
              "      <td>MAR</td>\n",
              "      <td>5.5</td>\n",
              "      <td>65.1</td>\n",
              "    </tr>\n",
              "    <tr>\n",
              "      <th>3</th>\n",
              "      <td>2010</td>\n",
              "      <td>Monthly</td>\n",
              "      <td>APR</td>\n",
              "      <td>8.2</td>\n",
              "      <td>21.4</td>\n",
              "    </tr>\n",
              "    <tr>\n",
              "      <th>4</th>\n",
              "      <td>2010</td>\n",
              "      <td>Monthly</td>\n",
              "      <td>MAY</td>\n",
              "      <td>9.8</td>\n",
              "      <td>22.1</td>\n",
              "    </tr>\n",
              "  </tbody>\n",
              "</table>\n",
              "</div>"
            ],
            "text/plain": [
              "   Year Type of period Period  Avg temp(in centigrade)  Avg rainfall(in mm)\n",
              "0  2010        Monthly    JAN                      0.8                 69.5\n",
              "1  2010        Monthly    FEB                      1.6                 71.7\n",
              "2  2010        Monthly    MAR                      5.5                 65.1\n",
              "3  2010        Monthly    APR                      8.2                 21.4\n",
              "4  2010        Monthly    MAY                      9.8                 22.1"
            ]
          },
          "metadata": {
            "tags": []
          },
          "execution_count": 3
        }
      ]
    },
    {
      "cell_type": "code",
      "metadata": {
        "colab": {
          "base_uri": "https://localhost:8080/"
        },
        "id": "mExq2XDTa5Ow",
        "outputId": "06f18cf8-2bee-4027-e1c3-81b4c6c8425d"
      },
      "source": [
        "data.shape\n"
      ],
      "execution_count": 4,
      "outputs": [
        {
          "output_type": "execute_result",
          "data": {
            "text/plain": [
              "(170, 5)"
            ]
          },
          "metadata": {
            "tags": []
          },
          "execution_count": 4
        }
      ]
    },
    {
      "cell_type": "code",
      "metadata": {
        "id": "wAy1c3brLUQh",
        "outputId": "de05b74d-32e7-420c-cb3d-c42269092ead",
        "colab": {
          "base_uri": "https://localhost:8080/"
        }
      },
      "source": [
        "print(data['Period'])"
      ],
      "execution_count": 5,
      "outputs": [
        {
          "output_type": "stream",
          "text": [
            "0         JAN\n",
            "1         FEB\n",
            "2         MAR\n",
            "3         APR\n",
            "4         MAY\n",
            "        ...  \n",
            "165    Winter\n",
            "166    Spring\n",
            "167    Summer\n",
            "168    Autumn\n",
            "169    Annual\n",
            "Name: Period, Length: 170, dtype: object\n"
          ],
          "name": "stdout"
        }
      ]
    },
    {
      "cell_type": "code",
      "metadata": {
        "colab": {
          "base_uri": "https://localhost:8080/"
        },
        "id": "9b6KcDGga5R6",
        "outputId": "53401fc0-a3d3-4f2c-98a5-c2ca33c68fca"
      },
      "source": [
        "data.isnull().sum()"
      ],
      "execution_count": 6,
      "outputs": [
        {
          "output_type": "execute_result",
          "data": {
            "text/plain": [
              "Year                       0\n",
              "Type of period             0\n",
              "Period                     0\n",
              "Avg temp(in centigrade)    0\n",
              "Avg rainfall(in mm)        0\n",
              "dtype: int64"
            ]
          },
          "metadata": {
            "tags": []
          },
          "execution_count": 6
        }
      ]
    },
    {
      "cell_type": "code",
      "metadata": {
        "colab": {
          "base_uri": "https://localhost:8080/"
        },
        "id": "Yq3SbQv1a5Vd",
        "outputId": "596de8b3-e870-4288-91b0-9734407d3b1c"
      },
      "source": [
        "data.info()"
      ],
      "execution_count": 7,
      "outputs": [
        {
          "output_type": "stream",
          "text": [
            "<class 'pandas.core.frame.DataFrame'>\n",
            "RangeIndex: 170 entries, 0 to 169\n",
            "Data columns (total 5 columns):\n",
            " #   Column                   Non-Null Count  Dtype  \n",
            "---  ------                   --------------  -----  \n",
            " 0   Year                     170 non-null    int64  \n",
            " 1   Type of period           170 non-null    object \n",
            " 2   Period                   170 non-null    object \n",
            " 3   Avg temp(in centigrade)  170 non-null    float64\n",
            " 4   Avg rainfall(in mm)      170 non-null    float64\n",
            "dtypes: float64(2), int64(1), object(2)\n",
            "memory usage: 6.8+ KB\n"
          ],
          "name": "stdout"
        }
      ]
    },
    {
      "cell_type": "code",
      "metadata": {
        "colab": {
          "base_uri": "https://localhost:8080/",
          "height": 297
        },
        "id": "leV9QMxZa5YU",
        "outputId": "22ee2c73-31cb-4b51-e170-76a85dbf2cd7"
      },
      "source": [
        "data.describe()"
      ],
      "execution_count": 8,
      "outputs": [
        {
          "output_type": "execute_result",
          "data": {
            "text/html": [
              "<div>\n",
              "<style scoped>\n",
              "    .dataframe tbody tr th:only-of-type {\n",
              "        vertical-align: middle;\n",
              "    }\n",
              "\n",
              "    .dataframe tbody tr th {\n",
              "        vertical-align: top;\n",
              "    }\n",
              "\n",
              "    .dataframe thead th {\n",
              "        text-align: right;\n",
              "    }\n",
              "</style>\n",
              "<table border=\"1\" class=\"dataframe\">\n",
              "  <thead>\n",
              "    <tr style=\"text-align: right;\">\n",
              "      <th></th>\n",
              "      <th>Year</th>\n",
              "      <th>Avg temp(in centigrade)</th>\n",
              "      <th>Avg rainfall(in mm)</th>\n",
              "    </tr>\n",
              "  </thead>\n",
              "  <tbody>\n",
              "    <tr>\n",
              "      <th>count</th>\n",
              "      <td>170.000000</td>\n",
              "      <td>170.000000</td>\n",
              "      <td>170.000000</td>\n",
              "    </tr>\n",
              "    <tr>\n",
              "      <th>mean</th>\n",
              "      <td>2014.500000</td>\n",
              "      <td>9.300235</td>\n",
              "      <td>140.540588</td>\n",
              "    </tr>\n",
              "    <tr>\n",
              "      <th>std</th>\n",
              "      <td>2.880767</td>\n",
              "      <td>4.355358</td>\n",
              "      <td>179.608045</td>\n",
              "    </tr>\n",
              "    <tr>\n",
              "      <th>min</th>\n",
              "      <td>2010.000000</td>\n",
              "      <td>-1.200000</td>\n",
              "      <td>10.300000</td>\n",
              "    </tr>\n",
              "    <tr>\n",
              "      <th>25%</th>\n",
              "      <td>2012.000000</td>\n",
              "      <td>5.485000</td>\n",
              "      <td>52.625000</td>\n",
              "    </tr>\n",
              "    <tr>\n",
              "      <th>50%</th>\n",
              "      <td>2014.500000</td>\n",
              "      <td>9.320000</td>\n",
              "      <td>78.800000</td>\n",
              "    </tr>\n",
              "    <tr>\n",
              "      <th>75%</th>\n",
              "      <td>2017.000000</td>\n",
              "      <td>12.975000</td>\n",
              "      <td>147.900000</td>\n",
              "    </tr>\n",
              "    <tr>\n",
              "      <th>max</th>\n",
              "      <td>2019.000000</td>\n",
              "      <td>17.800000</td>\n",
              "      <td>1043.000000</td>\n",
              "    </tr>\n",
              "  </tbody>\n",
              "</table>\n",
              "</div>"
            ],
            "text/plain": [
              "              Year  Avg temp(in centigrade)  Avg rainfall(in mm)\n",
              "count   170.000000               170.000000           170.000000\n",
              "mean   2014.500000                 9.300235           140.540588\n",
              "std       2.880767                 4.355358           179.608045\n",
              "min    2010.000000                -1.200000            10.300000\n",
              "25%    2012.000000                 5.485000            52.625000\n",
              "50%    2014.500000                 9.320000            78.800000\n",
              "75%    2017.000000                12.975000           147.900000\n",
              "max    2019.000000                17.800000          1043.000000"
            ]
          },
          "metadata": {
            "tags": []
          },
          "execution_count": 8
        }
      ]
    },
    {
      "cell_type": "code",
      "metadata": {
        "colab": {
          "base_uri": "https://localhost:8080/"
        },
        "id": "EI2AuEgcbTHC",
        "outputId": "5ddde218-f19f-4ffd-97b1-3c894e9693bd"
      },
      "source": [
        "data.nunique()"
      ],
      "execution_count": 9,
      "outputs": [
        {
          "output_type": "execute_result",
          "data": {
            "text/plain": [
              "Year                        10\n",
              "Type of period               3\n",
              "Period                      17\n",
              "Avg temp(in centigrade)    123\n",
              "Avg rainfall(in mm)        158\n",
              "dtype: int64"
            ]
          },
          "metadata": {
            "tags": []
          },
          "execution_count": 9
        }
      ]
    },
    {
      "cell_type": "code",
      "metadata": {
        "colab": {
          "base_uri": "https://localhost:8080/",
          "height": 596
        },
        "id": "UBPhv4dVbTV_",
        "outputId": "60ed6229-5c6f-429d-f546-745228f9bb94"
      },
      "source": [
        "import seaborn as sns\n",
        "plt.figure(figsize=(10,10))\n",
        "hm=sns.heatmap(data.corr(),annot=True,cmap=\"RdYlGn\")\n",
        "plt.show()"
      ],
      "execution_count": 10,
      "outputs": [
        {
          "output_type": "display_data",
          "data": {
            "image/png": "[encoded data removed]",
            "text/plain": [
              "<Figure size 720x720 with 2 Axes>"
            ]
          },
          "metadata": {
            "tags": [],
            "needs_background": "light"
          }
        }
      ]
    },
    {
      "cell_type": "code",
      "metadata": {
        "colab": {
          "base_uri": "https://localhost:8080/"
        },
        "id": "73XHtPx5tqlE",
        "outputId": "68f861af-d1eb-49ba-c858-c6f717f34d34"
      },
      "source": [
        "X = data.iloc[:, :-1].values\n",
        "y = data.iloc[:, -1].values\n",
        "print(y)"
      ],
      "execution_count": 11,
      "outputs": [
        {
          "output_type": "stream",
          "text": [
            "[  69.5   71.7   65.1   21.4   22.1   42.7   61.1   76.6   83.9   65.\n",
            "  118.2   40.7  228.7  108.6  180.5  267.2  738.3   54.5   82.    20.5\n",
            "   10.3   48.5   62.9   71.7   94.1   43.2   62.1   35.6   76.2  177.2\n",
            "   79.4  228.7  140.9  661.7   47.2   24.2   21.9  140.9   62.3  141.5\n",
            "   96.3   87.6   95.3   86.4  111.8  127.7  147.6  225.1  325.4  293.5\n",
            " 1043.    69.8   34.3   60.1   22.1   76.4   40.8   55.9   61.2   44.1\n",
            "  111.5   52.5   76.7  231.8  158.6  157.9  208.1  705.5  118.5   81.8\n",
            "   44.2   42.   104.4   45.5   54.7   96.2   18.2   83.    81.6   61.1\n",
            "  277.1  190.7  196.4  182.7  831.2   62.7   37.    45.6   25.6   82.5\n",
            "   34.9   85.3   73.2   39.1   65.   116.6  148.   160.8  153.8  193.3\n",
            "  220.7  815.5  121.7   53.    66.3   70.3   36.2   76.5   51.2   73.2\n",
            "   48.6   50.1   93.1   37.9  322.6  172.9  200.9  191.8  778.2   39.4\n",
            "   65.9   63.9   19.4   42.9  116.    81.7   64.4   85.    50.1   69.1\n",
            "   56.8  143.2  126.1  262.   204.2  754.5   71.5   46.7   95.3   78.2\n",
            "   35.5   26.6   42.6   57.7   58.6   66.3   71.6   71.   175.1  209.\n",
            "  126.9  196.4  721.6   22.8   36.2   82.2   27.7   52.1  114.3   75.6\n",
            "   89.1  104.9  115.4  124.    61.4  130.4  162.1  279.   344.4  905.9]\n"
          ],
          "name": "stdout"
        }
      ]
    },
    {
      "cell_type": "code",
      "metadata": {
        "colab": {
          "base_uri": "https://localhost:8080/"
        },
        "id": "9GzKm46zz8bc",
        "outputId": "981557ce-2f4f-456a-c0b6-bfb96de059ac"
      },
      "source": [
        "from sklearn.preprocessing import LabelEncoder\n",
        "le = LabelEncoder()\n",
        "data['Type of period'] = le.fit_transform(data['Type of period'])\n",
        "print(data)\n",
        "print(data['Period'])"
      ],
      "execution_count": 12,
      "outputs": [
        {
          "output_type": "stream",
          "text": [
            "     Year  Type of period  Period  Avg temp(in centigrade)  Avg rainfall(in mm)\n",
            "0    2010               1     JAN                     0.80                 69.5\n",
            "1    2010               1     FEB                     1.60                 71.7\n",
            "2    2010               1     MAR                     5.50                 65.1\n",
            "3    2010               1     APR                     8.20                 21.4\n",
            "4    2010               1     MAY                     9.80                 22.1\n",
            "..    ...             ...     ...                      ...                  ...\n",
            "165  2019               2  Winter                     4.89                130.4\n",
            "166  2019               2  Spring                     8.38                162.1\n",
            "167  2019               2  Summer                    15.67                279.0\n",
            "168  2019               2  Autumn                     9.26                344.4\n",
            "169  2019               0  Annual                     9.54                905.9\n",
            "\n",
            "[170 rows x 5 columns]\n",
            "0         JAN\n",
            "1         FEB\n",
            "2         MAR\n",
            "3         APR\n",
            "4         MAY\n",
            "        ...  \n",
            "165    Winter\n",
            "166    Spring\n",
            "167    Summer\n",
            "168    Autumn\n",
            "169    Annual\n",
            "Name: Period, Length: 170, dtype: object\n"
          ],
          "name": "stdout"
        }
      ]
    },
    {
      "cell_type": "code",
      "metadata": {
        "id": "l0uUi73MNSki",
        "outputId": "38af81f0-f6f5-4415-f694-d14babe23a35",
        "colab": {
          "base_uri": "https://localhost:8080/"
        }
      },
      "source": [
        "data[\"Period\"] = data[\"Period\"].astype('category')\n",
        "data.dtypes"
      ],
      "execution_count": 13,
      "outputs": [
        {
          "output_type": "execute_result",
          "data": {
            "text/plain": [
              "Year                          int64\n",
              "Type of period                int64\n",
              "Period                     category\n",
              "Avg temp(in centigrade)     float64\n",
              "Avg rainfall(in mm)         float64\n",
              "dtype: object"
            ]
          },
          "metadata": {
            "tags": []
          },
          "execution_count": 13
        }
      ]
    },
    {
      "cell_type": "code",
      "metadata": {
        "id": "pzoSSTLYQazj",
        "outputId": "080696dd-9c09-4a62-88a6-555ddbef22f0",
        "colab": {
          "base_uri": "https://localhost:8080/"
        }
      },
      "source": [
        "from sklearn.preprocessing import LabelEncoder\n",
        "le = LabelEncoder()\n",
        "data['Period'] = le.fit_transform(data['Period'])\n",
        "print(data)\n",
        "print(data['Period'])"
      ],
      "execution_count": 14,
      "outputs": [
        {
          "output_type": "stream",
          "text": [
            "     Year  Type of period  Period  Avg temp(in centigrade)  Avg rainfall(in mm)\n",
            "0    2010               1       6                     0.80                 69.5\n",
            "1    2010               1       5                     1.60                 71.7\n",
            "2    2010               1       9                     5.50                 65.1\n",
            "3    2010               1       0                     8.20                 21.4\n",
            "4    2010               1      10                     9.80                 22.1\n",
            "..    ...             ...     ...                      ...                  ...\n",
            "165  2019               2      16                     4.89                130.4\n",
            "166  2019               2      14                     8.38                162.1\n",
            "167  2019               2      15                    15.67                279.0\n",
            "168  2019               2       3                     9.26                344.4\n",
            "169  2019               0       2                     9.54                905.9\n",
            "\n",
            "[170 rows x 5 columns]\n",
            "0       6\n",
            "1       5\n",
            "2       9\n",
            "3       0\n",
            "4      10\n",
            "       ..\n",
            "165    16\n",
            "166    14\n",
            "167    15\n",
            "168     3\n",
            "169     2\n",
            "Name: Period, Length: 170, dtype: int64\n"
          ],
          "name": "stdout"
        }
      ]
    },
    {
      "cell_type": "code",
      "metadata": {
        "id": "bzsO7WyLJz7O"
      },
      "source": [
        "X = data.iloc[:, :-1].values\n",
        "y = data.iloc[:, -1].values\n",
        "from sklearn.model_selection import train_test_split\n",
        "X_train, X_test, y_train, y_test = train_test_split(X, y, test_size = 0.2, random_state = 0)\n"
      ],
      "execution_count": 19,
      "outputs": []
    },
    {
      "cell_type": "code",
      "metadata": {
        "id": "MpERAau6RmLH",
        "outputId": "6c25273a-ba51-466c-f298-ef965c9375fb",
        "colab": {
          "base_uri": "https://localhost:8080/"
        }
      },
      "source": [
        "from sklearn.ensemble import RandomForestRegressor\n",
        "regressor = RandomForestRegressor(n_estimators = 10, random_state = 0)\n",
        "regressor.fit(X_train, y_train)\n",
        "y_pred = regressor.predict(X_test)\n",
        "np.set_printoptions(precision=1)\n",
        "print(np.concatenate((y_pred.reshape(len(y_pred),1), y_test.reshape(len(y_test),1)),1))\n",
        "from sklearn.metrics import r2_score\n",
        "r2_score(y_test, y_pred)"
      ],
      "execution_count": 22,
      "outputs": [
        {
          "output_type": "stream",
          "text": [
            "[[171.1 262. ]\n",
            " [ 70.3  71.5]\n",
            " [201.4 344.4]\n",
            " [ 43.5  22.1]\n",
            " [ 69.5  40.8]\n",
            " [ 66.1  58.6]\n",
            " [ 80.8  76.6]\n",
            " [ 64.4 148. ]\n",
            " [ 54.   63.9]\n",
            " [202.8 160.8]\n",
            " [ 83.5  26.6]\n",
            " [ 54.5  42.7]\n",
            " [205.9 182.7]\n",
            " [ 61.1  73.2]\n",
            " [ 70.5  76.4]\n",
            " [ 74.   82. ]\n",
            " [ 90.7  52.5]\n",
            " [767.4 815.5]\n",
            " [ 68.5 111.5]\n",
            " [194.6 231.8]\n",
            " [ 66.3  22.8]\n",
            " [ 54.3  22.1]\n",
            " [ 69.6  36.2]\n",
            " [ 75.1 104.9]\n",
            " [ 65.5  51.2]\n",
            " [ 44.3 140.9]\n",
            " [194.2 208.1]\n",
            " [ 84.4  52.1]\n",
            " [ 38.  127.7]\n",
            " [ 62.8  62.1]\n",
            " [786.2 661.7]\n",
            " [ 76.2  81.7]\n",
            " [ 79.1 111.8]\n",
            " [ 41.2  83.9]]\n"
          ],
          "name": "stdout"
        },
        {
          "output_type": "execute_result",
          "data": {
            "text/plain": [
              "0.903579518665817"
            ]
          },
          "metadata": {
            "tags": []
          },
          "execution_count": 22
        }
      ]
    },
    {
      "cell_type": "code",
      "metadata": {
        "id": "yUAodgtzSG-F",
        "outputId": "0b48c9a9-92fb-4568-830c-0839706df7f6",
        "colab": {
          "base_uri": "https://localhost:8080/"
        }
      },
      "source": [
        "from sklearn.tree import DecisionTreeRegressor\n",
        "regressor = DecisionTreeRegressor(random_state = 0)\n",
        "regressor.fit(X_train, y_train)\n",
        "y_pred = regressor.predict(X_test)\n",
        "np.set_printoptions(precision=2)\n",
        "print(np.concatenate((y_pred.reshape(len(y_pred),1), y_test.reshape(len(y_test),1)),1))\n",
        "from sklearn.metrics import r2_score\n",
        "r2_score(y_test, y_pred)"
      ],
      "execution_count": 23,
      "outputs": [
        {
          "output_type": "stream",
          "text": [
            "[[ 200.9  262. ]\n",
            " [  39.4   71.5]\n",
            " [ 190.7  344.4]\n",
            " [  70.3   22.1]\n",
            " [  34.9   40.8]\n",
            " [  85.    58.6]\n",
            " [  94.1   76.6]\n",
            " [  37.9  148. ]\n",
            " [  44.2   63.9]\n",
            " [ 175.1  160.8]\n",
            " [ 116.    26.6]\n",
            " [  61.1   42.7]\n",
            " [ 220.7  182.7]\n",
            " [  57.7   73.2]\n",
            " [  82.5   76.4]\n",
            " [ 141.5   82. ]\n",
            " [  81.6   52.5]\n",
            " [ 778.2  815.5]\n",
            " [  39.1  111.5]\n",
            " [ 175.1  231.8]\n",
            " [  39.4   22.8]\n",
            " [  65.    22.1]\n",
            " [  50.1   36.2]\n",
            " [ 115.4  104.9]\n",
            " [  57.7   51.2]\n",
            " [  70.3  140.9]\n",
            " [ 140.9  208.1]\n",
            " [  82.2   52.1]\n",
            " [  37.   127.7]\n",
            " [  35.6   62.1]\n",
            " [1043.   661.7]\n",
            " [  73.2   81.7]\n",
            " [  81.6  111.8]\n",
            " [  95.3   83.9]]\n"
          ],
          "name": "stdout"
        },
        {
          "output_type": "execute_result",
          "data": {
            "text/plain": [
              "0.7522461891565007"
            ]
          },
          "metadata": {
            "tags": []
          },
          "execution_count": 23
        }
      ]
    },
    {
      "cell_type": "code",
      "metadata": {
        "id": "M5dv8gOfSdRx",
        "outputId": "a6b58ebe-0faf-4276-9a5f-82657d8fa152",
        "colab": {
          "base_uri": "https://localhost:8080/"
        }
      },
      "source": [
        "y = y.reshape(len(y),1)\n",
        "from sklearn.model_selection import train_test_split\n",
        "X_train, X_test, y_train, y_test = train_test_split(X, y, test_size = 0.2, random_state = 0)\n",
        "from sklearn.preprocessing import StandardScaler\n",
        "sc_X = StandardScaler()\n",
        "sc_y = StandardScaler()\n",
        "X_train = sc_X.fit_transform(X_train)\n",
        "y_train = sc_y.fit_transform(y_train)\n",
        "from sklearn.svm import SVR\n",
        "regressor = SVR(kernel = 'rbf')\n",
        "regressor.fit(X_train, y_train)\n",
        "y_pred = sc_y.inverse_transform(regressor.predict(sc_X.transform(X_test)))\n",
        "np.set_printoptions(precision=2)\n",
        "print(np.concatenate((y_pred.reshape(len(y_pred),1), y_test.reshape(len(y_test),1)),1))\n",
        "from sklearn.metrics import r2_score\n",
        "r2_score(y_test, y_pred)"
      ],
      "execution_count": 25,
      "outputs": [
        {
          "output_type": "stream",
          "text": [
            "[[183.79 262.  ]\n",
            " [ 59.9   71.5 ]\n",
            " [171.98 344.4 ]\n",
            " [ 53.65  22.1 ]\n",
            " [ 75.39  40.8 ]\n",
            " [ 81.51  58.6 ]\n",
            " [ 77.33  76.6 ]\n",
            " [ 69.89 148.  ]\n",
            " [ 67.52  63.9 ]\n",
            " [187.08 160.8 ]\n",
            " [ 69.37  26.6 ]\n",
            " [ 73.04  42.7 ]\n",
            " [212.7  182.7 ]\n",
            " [ 72.59  73.2 ]\n",
            " [ 66.07  76.4 ]\n",
            " [ 54.05  82.  ]\n",
            " [ 70.23  52.5 ]\n",
            " [766.41 815.5 ]\n",
            " [ 63.23 111.5 ]\n",
            " [195.62 231.8 ]\n",
            " [ 71.12  22.8 ]\n",
            " [ 63.97  22.1 ]\n",
            " [ 61.8   36.2 ]\n",
            " [102.56 104.9 ]\n",
            " [ 58.99  51.2 ]\n",
            " [ 51.03 140.9 ]\n",
            " [224.44 208.1 ]\n",
            " [ 92.64  52.1 ]\n",
            " [ 50.28 127.7 ]\n",
            " [ 65.13  62.1 ]\n",
            " [624.45 661.7 ]\n",
            " [ 61.16  81.7 ]\n",
            " [ 67.62 111.8 ]\n",
            " [ 72.59  83.9 ]]\n"
          ],
          "name": "stdout"
        },
        {
          "output_type": "stream",
          "text": [
            "/usr/local/lib/python3.7/dist-packages/sklearn/utils/validation.py:760: DataConversionWarning: A column-vector y was passed when a 1d array was expected. Please change the shape of y to (n_samples, ), for example using ravel().\n",
            "  y = column_or_1d(y, warn=True)\n"
          ],
          "name": "stderr"
        },
        {
          "output_type": "execute_result",
          "data": {
            "text/plain": [
              "0.9152449931187054"
            ]
          },
          "metadata": {
            "tags": []
          },
          "execution_count": 25
        }
      ]
    }
  ]
}